{
 "cells": [
  {
   "cell_type": "markdown",
   "metadata": {},
   "source": [
    "# CIS 400 Project Part 5"
   ]
  },
    {
   "cell_type": "markdown",
   "metadata": {},
   "source": [
    "Pre-processing （This section do NOT need to rerun）"
   ]
  },
  {
   "cell_type": "code",
   "execution_count": 1,
   "metadata": {},
   "outputs": [],
   "source": [
    "# requires tensorflow=2.3.0\n",
    "from transformers import pipeline"
   ]
  },
  {
   "cell_type": "code",
   "execution_count": 5,
   "metadata": {
    "scrolled": false
   },
   "outputs": [
    {
     "name": "stderr",
     "output_type": "stream",
     "text": [
      "All model checkpoint layers were used when initializing TFDistilBertForSequenceClassification.\n",
      "\n",
      "All the layers of TFDistilBertForSequenceClassification were initialized from the model checkpoint at distilbert-base-uncased-finetuned-sst-2-english.\n",
      "If your task is similar to the task the model of the checkpoint was trained on, you can already use TFDistilBertForSequenceClassification for predictions without further training.\n"
     ]
    }
   ],
   "source": [
    "sentiment_analysis = pipeline(\"sentiment-analysis\")"
   ]
  },
  {
   "cell_type": "code",
   "execution_count": 6,
   "metadata": {},
   "outputs": [],
   "source": [
    "# tweets: {'TweetID': ['UserID', 'Source','Text', 'CreatedDate']}\n",
    "tweets = load_data(\"tweetinfo.csv\")"
   ]
  },
  {
   "cell_type": "code",
   "execution_count": 10,
   "metadata": {},
   "outputs": [],
   "source": [
    "tweets_sentence = [tweets[k][2] for k in tweets.keys()]"
   ]
  },
  {
   "cell_type": "code",
   "execution_count": 20,
   "metadata": {},
   "outputs": [],
   "source": [
    "# sentiment analysis\n",
    "def senti_analysis(tweets, batch = 1000):\n",
    "    result = []\n",
    "    size = len(tweets)\n",
    "    for i in range(0, size, batch):\n",
    "        x = i\n",
    "        result += sentiment_analysis(tweets[x:x+batch])\n",
    "        print(\"finished:\", i+batch)\n",
    "    return result"
   ]
  },
  {
   "cell_type": "code",
   "execution_count": 21,
   "metadata": {},
   "outputs": [
    {
     "name": "stdout",
     "output_type": "stream",
     "text": [
      "finished: 1000\n",
      "...\n"
     ]
    },
    {
     "name": "stdout",
     "output_type": "stream",
     "text": [
      "finished: 3285000\n"
     ]
    }
   ],
   "source": [
    "#starting at 11:35 am\n",
    "tweets_sentiments = senti_analysis(tweets_sentence)"
   ]
  },
  {
   "cell_type": "code",
   "execution_count": 22,
   "metadata": {},
   "outputs": [],
   "source": [
    "# attach sentiments to tweets\n",
    "def attach_sentiments(tweets, sentiments):\n",
    "    i = 0\n",
    "    result = tweets\n",
    "    for k in tweets.keys():\n",
    "        result[k].append(sentiments[i])\n",
    "        i += 1\n",
    "    return result"
   ]
  },
  {
   "cell_type": "code",
   "execution_count": 23,
   "metadata": {},
   "outputs": [],
   "source": [
    "tweets_new = attach_sentiments(tweets, tweets_sentiments)"
   ]
  },
  {
   "cell_type": "code",
   "execution_count": 27,
   "metadata": {},
   "outputs": [
    {
     "name": "stdout",
     "output_type": "stream",
     "text": [
      "writing finish\n"
     ]
    }
   ],
   "source": [
    "save_data(tweets_new, \"tweetsentiments.csv\")"
   ]
  },
  {
   "cell_type": "code",
   "execution_count": null,
   "metadata": {},
   "outputs": [],
   "source": []
  },
  {
   "cell_type": "code",
   "execution_count": null,
   "metadata": {},
   "outputs": [],
   "source": []
  },
  {
   "cell_type": "code",
   "execution_count": null,
   "metadata": {},
   "outputs": [],
   "source": []
  },
  {
   "cell_type": "code",
   "execution_count": null,
   "metadata": {},
   "outputs": [],
   "source": []
  },
  {
   "cell_type": "code",
   "execution_count": null,
   "metadata": {},
   "outputs": [],
   "source": []
  },
  {
   "cell_type": "code",
   "execution_count": null,
   "metadata": {},
   "outputs": [],
   "source": []
  },
  {
   "cell_type": "code",
   "execution_count": null,
   "metadata": {},
   "outputs": [],
   "source": []
  },
  {
   "cell_type": "code",
   "execution_count": null,
   "metadata": {},
   "outputs": [],
   "source": []
  },
  {
   "cell_type": "code",
   "execution_count": null,
   "metadata": {},
   "outputs": [],
   "source": []
  },
  {
   "cell_type": "code",
   "execution_count": null,
   "metadata": {},
   "outputs": [],
   "source": []
  },
  {
   "cell_type": "markdown",
   "metadata": {},
   "source": [
    "Section 1 -- Load Data"
   ]
  },
  {
   "cell_type": "code",
   "execution_count": 3,
   "metadata": {},
   "outputs": [],
   "source": [
    "import csv"
   ]
  },
  {
   "cell_type": "code",
   "execution_count": 4,
   "metadata": {},
   "outputs": [],
   "source": [
    "# read data\n",
    "def load_data(filename):\n",
    "    result = {}\n",
    "    with open(filename, newline='', encoding=\"utf8\") as csvfile:\n",
    "        spamreader = csv.reader(csvfile, delimiter=',', quotechar='|')\n",
    "        for row in spamreader:\n",
    "            result[row[0]] = row[1:]\n",
    "    return result"
   ]
  },
  {
   "cell_type": "code",
   "execution_count": 5,
   "metadata": {},
   "outputs": [],
   "source": [
    "# Save data into csv files\n",
    "def save_data(dic, filename):\n",
    "    with open(filename,'w', newline='', encoding=\"utf8\") as csvfile:\n",
    "        csvwriter = csv.writer(csvfile, delimiter=',',\n",
    "                            quotechar='|', quoting=csv.QUOTE_MINIMAL)\n",
    "        for k in dic.keys():\n",
    "            csvwriter.writerow([k] + dic[k])\n",
    "        print('writing finish')"
   ]
  },
  {
   "cell_type": "code",
   "execution_count": 6,
   "metadata": {},
   "outputs": [],
   "source": [
    "# tweets_sentiments: {'TweetID': ['UserID', 'Source','Text', 'CreatedDate', 'Sentiments']}\n",
    "tweets_sentiments = load_data(\"tweetsentiments.csv\")\n",
    "\n",
    "# tweets_emotions_NLTK: {'TweetID': ['emotion_score']}\n",
    "tweets_emotions_NLTK = load_data(\"tweetemotion.csv\")\n",
    "\n",
    "# users: {'UserID': ['UserName','followers_count', 'friends_count', 'FriendID']}\n",
    "users = load_data(\"userinfo.csv\")"
   ]
  },
  {
   "cell_type": "code",
   "execution_count": 6,
   "metadata": {},
   "outputs": [],
   "source": []
  },
  {
   "cell_type": "code",
   "execution_count": null,
   "metadata": {},
   "outputs": [],
   "source": []
  },
  {
   "cell_type": "code",
   "execution_count": null,
   "metadata": {},
   "outputs": [],
   "source": []
  },
  {
   "cell_type": "code",
   "execution_count": null,
   "metadata": {},
   "outputs": [],
   "source": []
  },
  {
   "cell_type": "code",
   "execution_count": null,
   "metadata": {},
   "outputs": [],
   "source": []
  },
  {
   "cell_type": "code",
   "execution_count": null,
   "metadata": {},
   "outputs": [],
   "source": []
  },
  {
   "cell_type": "markdown",
   "metadata": {},
   "source": [
    "Section 2 -- Comparsion of Sentiment Algorithms"
   ]
  },
  {
   "cell_type": "code",
   "execution_count": 91,
   "metadata": {},
   "outputs": [],
   "source": [
    "# Here we compare results between scoring method and pre-trained neural network classification models on sentiment analysis"
   ]
  },
  {
   "cell_type": "code",
   "execution_count": 15,
   "metadata": {},
   "outputs": [],
   "source": [
    "import matplotlib.pyplot as plt"
   ]
  },
  {
   "cell_type": "code",
   "execution_count": 25,
   "metadata": {},
   "outputs": [],
   "source": [
    "# Plot distributions\n",
    "def plot_distribution(points, title_and_xylabels, save_filename, bin_size = 21):\n",
    "    plt.figure(figsize=(10,8))\n",
    "    plt.hist(points, bins = bin_size, range = (-1.05,1.05))\n",
    "\n",
    "    plt.xlabel(title_and_xylabels[1])\n",
    "    plt.ylabel(title_and_xylabels[2])\n",
    "    plt.title(title_and_xylabels[0])\n",
    "    plt.savefig(save_filename)\n",
    "    plt.show()"
   ]
  },
  {
   "cell_type": "code",
   "execution_count": 26,
   "metadata": {},
   "outputs": [],
   "source": [
    "# prepare sentiments collected by DistilBERT (NeruIPS '19)\n",
    "def distilBERT_sentiments(tweets_sentiments):\n",
    "    result = {}\n",
    "    for k in tweets_sentiments.keys():\n",
    "        dict_sentiment = eval(tweets_sentiments[k][4])\n",
    "        if dict_sentiment['label'] == 'NEGATIVE':\n",
    "            result[k] = -dict_sentiment['score']\n",
    "        else:\n",
    "            result[k] = dict_sentiment['score']\n",
    "    return result"
   ]
  },
  {
   "cell_type": "code",
   "execution_count": 27,
   "metadata": {},
   "outputs": [],
   "source": [
    "emotions_NLTK = [float(v[0]) for v in tweets_emotions_NLTK.values()]"
   ]
  },
  {
   "cell_type": "code",
   "execution_count": 10,
   "metadata": {},
   "outputs": [
    {
     "data": {
      "image/png": "[encoded data removed]",
      "text/plain": [
       "<Figure size 720x576 with 1 Axes>"
      ]
     },
     "metadata": {
      "needs_background": "light"
     },
     "output_type": "display_data"
    }
   ],
   "source": [
    "plot_distribution(emotions_NLTK, \n",
    "                  ['Emotions Distribution of NLTK', 'Sentiment Score', 'Count'], \n",
    "                  'emotions_NLTK_distribution.png')\n",
    "\n",
    "# Most of tweets have 0 sentiment scores!!\n",
    "# It is hard to study correlation between sentiments and other features."
   ]
  },
  {
   "cell_type": "code",
   "execution_count": 28,
   "metadata": {},
   "outputs": [
    {
     "data": {
      "text/plain": [
       "{'105': -0.9970303177833557,\n",
       "...",
       " '1104': 0.9962140321731567,\n",
       " ...}"
      ]
     },
     "execution_count": 28,
     "metadata": {},
     "output_type": "execute_result"
    }
   ],
   "source": [
    "sentiments_distilBERT = distilBERT_sentiments(tweets_sentiments)\n",
    "sentiments_distilBERT # sentiments_distilBERT: {'TweetID': ['Emotional Value']}"
   ]
  },
  {
   "cell_type": "code",
   "execution_count": 12,
   "metadata": {},
   "outputs": [
    {
     "data": {
      "image/png": "[encoded data removed]",
      "text/plain": [
       "<Figure size 720x576 with 1 Axes>"
      ]
     },
     "metadata": {
      "needs_background": "light"
     },
     "output_type": "display_data"
    }
   ],
   "source": [
    "plot_distribution(sentiments_distilBERT.values(), \n",
    "                  ['Emotions Distribution of distilBERT', 'Sentiment Confidence', 'Count'], \n",
    "                  'emotions_distilBERT_distribution.png')\n",
    "\n",
    "# Most tweets are classified into either 'positive' or 'negative' with high confidence\n",
    "# Note that these two are actually completely different methods (Scoring and Classification), \n",
    "# binary clasification methods are more suitable for our future tasks rather than scoreing methods. "
   ]
  },
  {
   "cell_type": "code",
   "execution_count": 13,
   "metadata": {},
   "outputs": [
    {
     "name": "stdout",
     "output_type": "stream",
     "text": [
      "---------------------example 1---------------------\n",
      "tweet: RT @normanswan: Israel has just done a deal with Moderna for a variant specific vaccine. Why haven’t we?\n",
      "NLTK_score: 0.0\n",
      "distilBERT_Result: {'label': 'NEGATIVE', 'score': 0.9970303177833557}\n",
      "\n",
      "---------------------example 2---------------------\n",
      "tweet: RT @sanchezcastejon: Spain is commited to equal and universal access to vaccines, @selenagomez. Just this week, I have announced that we wi…\n",
      "NLTK_score: 0.0\n",
      "distilBERT_Result: {'label': 'POSITIVE', 'score': 0.9727376699447632}\n",
      "\n",
      "---------------------example 3---------------------\n",
      "tweet: RT @AskAnshul: A lobby is urging to import Pfizer vaccine since January. They just want India to buy Pfizer. They don't care about its cost…\n",
      "NLTK_score: 0.0\n",
      "distilBERT_Result: {'label': 'NEGATIVE', 'score': 0.998418927192688}\n"
     ]
    }
   ],
   "source": [
    "# Here we show some actual examples of two methods, how distilBERT is more advanced\n",
    "print('---------------------example 1---------------------')\n",
    "print('tweet:', tweets_sentiments['105'][2])\n",
    "print('NLTK_score:', tweets_emotions_NLTK['105'][0])\n",
    "print('distilBERT_Result:', tweets_sentiments['105'][4])\n",
    "\n",
    "print('\\n---------------------example 2---------------------')\n",
    "print('tweet:', tweets_sentiments['106'][2])\n",
    "print('NLTK_score:', tweets_emotions_NLTK['106'][0])\n",
    "print('distilBERT_Result:', tweets_sentiments['106'][4])\n",
    "\n",
    "print('\\n---------------------example 3---------------------')\n",
    "print('tweet:', tweets_sentiments['115'][2])\n",
    "print('NLTK_score:', tweets_emotions_NLTK['115'][0])\n",
    "print('distilBERT_Result:', tweets_sentiments['115'][4])"
   ]
  },
  {
   "cell_type": "code",
   "execution_count": null,
   "metadata": {},
   "outputs": [],
   "source": []
  },
  {
   "cell_type": "code",
   "execution_count": null,
   "metadata": {},
   "outputs": [],
   "source": []
  },
  {
   "cell_type": "code",
   "execution_count": null,
   "metadata": {},
   "outputs": [],
   "source": []
  },
  {
   "cell_type": "markdown",
   "metadata": {},
   "source": [
    "Section 3 -- Sentiments over Time"
   ]
  },
  {
   "cell_type": "code",
   "execution_count": 14,
   "metadata": {},
   "outputs": [],
   "source": [
    "# plot sentments overtime\n",
    "# Here we set a threshold to consider confidence score <= 0.95 as Neutal tweets\n",
    "import datetime as dt"
   ]
  },
  {
   "cell_type": "code",
   "execution_count": 15,
   "metadata": {},
   "outputs": [],
   "source": [
    "def judge_sentiment(score):\n",
    "    if score > 0.95:\n",
    "        return 'Positive'\n",
    "    elif score < -0.95:\n",
    "        return 'Negative'\n",
    "    else:\n",
    "        return 'Neutral'\n",
    "\n",
    "def count_sentiment(tweets_sentiments, sentiments_distilBERT):\n",
    "    result = {}\n",
    "    for k in tweets_sentiments.keys():\n",
    "        d_t = dt.datetime.strptime(tweets_sentiments[k][3], '%Y-%m-%d %H:%M:%S')\n",
    "        day = d_t.date()\n",
    "        score = sentiments_distilBERT[k]\n",
    "        if day not in result.keys():\n",
    "            result[day] = {'Positive': 0, 'Negative': 0 ,'Neutral':0}\n",
    "            \n",
    "        result[day][judge_sentiment(score)] += 1\n",
    "            \n",
    "    return result"
   ]
  },
  {
   "cell_type": "code",
   "execution_count": 16,
   "metadata": {},
   "outputs": [],
   "source": [
    "def plot_sentiment(data, title_and_xylabels, save_filename):\n",
    "    date = []\n",
    "    negative = []\n",
    "    positive = []\n",
    "    \n",
    "    start_date = dt.date(2019, 4, 26)\n",
    "    end_date = dt.date(2021, 4, 26)\n",
    "    delta = dt.timedelta(days = 1)\n",
    "    while start_date <= end_date:\n",
    "        date.append(start_date)\n",
    "        if start_date in data.keys():\n",
    "            da = data[start_date]\n",
    "            total = da['Positive'] + da['Negative'] + da['Neutral']\n",
    "            positive.append(da['Positive']/total)\n",
    "            negative.append(-da['Negative']/total)\n",
    "        else:\n",
    "            positive.append(0)\n",
    "            negative.append(0)\n",
    "        start_date += delta \n",
    "    \n",
    "    fig = plt.figure(figsize=(25,8))\n",
    "    plt.xlabel(title_and_xylabels[1])\n",
    "    plt.ylabel(title_and_xylabels[2])\n",
    "    plt.title(title_and_xylabels[0])\n",
    "    plt.axvline(x = dt.date(2020,3,1), color = 'y', linewidth=10, alpha=0.7)\n",
    "    plt.plot([dt.date(2020,3,1), dt.date(2021,4,26)], [-0.64, -0.7], color = 'y', linewidth=10, alpha=0.7)\n",
    "    plt.plot([dt.date(2020,3,1), dt.date(2021,4,26)], [0.18, 0.12], color = 'y', linewidth=10, alpha=0.7)\n",
    "    ax = plt.subplot(111)\n",
    "    ax.bar(date, negative, width=1, color='b', alpha=0.9)\n",
    "    ax.bar(date, positive, width=1, color='r', alpha=0.9)\n",
    "    \n",
    "    fig.savefig(save_filename)\n",
    "    plt.show()"
   ]
  },
  {
   "cell_type": "code",
   "execution_count": 17,
   "metadata": {},
   "outputs": [],
   "source": [
    "senti_over_time = count_sentiment(tweets_sentiments, sentiments_distilBERT)"
   ]
  },
  {
   "cell_type": "code",
   "execution_count": 18,
   "metadata": {},
   "outputs": [
    {
     "name": "stderr",
     "output_type": "stream",
     "text": [
      "<ipython-input-16-bb46b30f4964>:28: MatplotlibDeprecationWarning: Adding an axes using the same arguments as a previous axes currently reuses the earlier instance.  In a future version, a new instance will always be created and returned.  Meanwhile, this warning can be suppressed, and the future behavior ensured, by passing a unique label to each axes instance.\n",
      "  ax = plt.subplot(111)\n"
     ]
    },
    {
     "data": {
      "image/png": "[encoded data removed]",
      "text/plain": [
       "<Figure size 1800x576 with 1 Axes>"
      ]
     },
     "metadata": {
      "needs_background": "light"
     },
     "output_type": "display_data"
    }
   ],
   "source": [
    "plot_sentiment(senti_over_time, \n",
    "               ['Daily Sentiments Ratio from 2019-04-26 to 2021-04-26, Split by 2020-03-01 (COVID19 in USA Grows)', 'date', 'sentiment ratio'], \n",
    "               'sentiments over time.png')"
   ]
  },
  {
   "cell_type": "code",
   "execution_count": null,
   "metadata": {},
   "outputs": [],
   "source": [
    "# Here we conclude:\n",
    "# 1. people on twitter are mostly negative (roughly 20% positve/ 60% negative)\n",
    "\n",
    "# 2. before the pandemic people's sentiments are relatively stable\n",
    "\n",
    "# 3. through the pandemic people's sentiments become more and more negative \n",
    "# (This can be shown by simple linear regression, we will include it in report)"
   ]
  },
  {
   "cell_type": "code",
   "execution_count": null,
   "metadata": {},
   "outputs": [],
   "source": []
  },
  {
   "cell_type": "code",
   "execution_count": null,
   "metadata": {},
   "outputs": [],
   "source": []
  },
  {
   "cell_type": "code",
   "execution_count": null,
   "metadata": {},
   "outputs": [],
   "source": []
  },
  {
   "cell_type": "markdown",
   "metadata": {},
   "source": [
    "Section 4 -- Sentiments vs. Popularity over COVID19 pandemic"
   ]
  },
  {
   "cell_type": "code",
   "execution_count": 184,
   "metadata": {},
   "outputs": [],
   "source": [
    "# Here we discuss whether sentiments are related with user's popularities (followers/friends)\n",
    "# We use K-means of euclidean distance to clustering users \n",
    "# However, K-means is super sensitive to distances, we log our followers/friends count to mitigate this"
   ]
  },
  {
   "cell_type": "code",
   "execution_count": 7,
   "metadata": {},
   "outputs": [],
   "source": [
    "from sklearn.cluster import KMeans\n",
    "import numpy as np\n",
    "import math"
   ]
  },
  {
   "cell_type": "code",
   "execution_count": 8,
   "metadata": {},
   "outputs": [],
   "source": [
    "# transfer to 2-dimensional points after log followers/friendes\n",
    "def prepare_points(user_data):\n",
    "    result = {}\n",
    "    for k in user_data.keys():\n",
    "        result[k] = (math.log10(int(user_data[k][1]) + 1), math.log10(int(user_data[k][2]) + 1))\n",
    "    return result"
   ]
  },
  {
   "cell_type": "code",
   "execution_count": 9,
   "metadata": {},
   "outputs": [],
   "source": [
    "# elbow method to select k \n",
    "# We measure Within Cluster Sum of Squares (WCSS) for different k, then select a k at 'elbow' of plot\n",
    "def elbow_k_selecting(points):\n",
    "    X = np.array(list(points.values()))\n",
    "    \n",
    "    wcss = []\n",
    "    for i in range(1, 11):\n",
    "        kmeans = KMeans(n_clusters=i, init='k-means++', max_iter=300, n_init=10, random_state=0)\n",
    "        kmeans.fit(X)\n",
    "        wcss.append(kmeans.inertia_)\n",
    "    plt.plot(range(1, 11), wcss)\n",
    "    plt.title('Elbow Method')\n",
    "    plt.xlabel('Number of clusters')\n",
    "    plt.ylabel('WCSS')\n",
    "    plt.savefig('elbow k means.png')\n",
    "    plt.show()"
   ]
  },
  {
   "cell_type": "code",
   "execution_count": 10,
   "metadata": {},
   "outputs": [],
   "source": [
    "# K-mean clustering \n",
    "def preform_Kmeans(points, k = 4):\n",
    "    results = {}\n",
    "    \n",
    "    X = np.array(list(points.values()))\n",
    "    kmeans = KMeans(n_clusters = k, random_state = 0).fit(X)\n",
    "    labels = kmeans.labels_\n",
    "    userids = list(points.keys())\n",
    "    for i in range(len(userids)):\n",
    "        results[userids[i]] = labels[i]\n",
    "    \n",
    "    return kmeans.cluster_centers_, results"
   ]
  },
  {
   "cell_type": "code",
   "execution_count": 11,
   "metadata": {},
   "outputs": [],
   "source": [
    "# sentiments of different groups during COVID19 pandemic(from 2020-03-01)\n",
    "def sentiments_towards_popularity(tweets_sentiments, sentiments_distilBERT, user_clusters):\n",
    "    result = {'Positive':[0,0,0,0], 'Negative':[0,0,0,0], 'Neutral':[0,0,0,0]}\n",
    "    \n",
    "    for k in tweets_sentiments.keys():\n",
    "        d_t = dt.datetime.strptime(tweets_sentiments[k][3], '%Y-%m-%d %H:%M:%S')\n",
    "        day = d_t.date()\n",
    "        if day >= dt.date(2020, 3, 1):\n",
    "            user_id = tweets_sentiments[k][0]\n",
    "            group_id = user_clusters[user_id]\n",
    "            sentiment = judge_sentiment(sentiments_distilBERT[k])\n",
    "            result[sentiment][group_id] += 1\n",
    "    return result"
   ]
  },
  {
   "cell_type": "code",
   "execution_count": 12,
   "metadata": {},
   "outputs": [],
   "source": [
    "# plot sentiments over group\n",
    "def plot_sentiment_group(sentiments_over_group):\n",
    "    group_total = [0]*4\n",
    "    for i in range(4):\n",
    "        group_total[i] = sentiments_over_group['Negative'][i]+sentiments_over_group['Positive'][i]+sentiments_over_group['Neutral'][i]\n",
    "    \n",
    "    N = 4\n",
    "    positive = (sentiments_over_group['Positive'][2]/group_total[2], sentiments_over_group['Positive'][0]/group_total[0], \n",
    "               sentiments_over_group['Positive'][1]/group_total[1], sentiments_over_group['Positive'][3]/group_total[3])\n",
    "    neutral = (sentiments_over_group['Neutral'][2]/group_total[2], sentiments_over_group['Neutral'][0]/group_total[0], \n",
    "               sentiments_over_group['Neutral'][1]/group_total[1], sentiments_over_group['Neutral'][3]/group_total[3])\n",
    "    negative = (sentiments_over_group['Negative'][2]/group_total[2], sentiments_over_group['Negative'][0]/group_total[0], \n",
    "               sentiments_over_group['Negative'][1]/group_total[1], sentiments_over_group['Negative'][3]/group_total[3])\n",
    "    \n",
    "\n",
    "    ind = np.arange(N) \n",
    "    width = 0.25       \n",
    "    plt.bar(ind, positive, width, label='Positive', color = 'r')\n",
    "    plt.bar(ind + width, neutral, width, label='Neutral', color = 'y')\n",
    "    plt.bar(ind + 2*width, negative, width, label='Negative', color = 'b')\n",
    "\n",
    "    plt.ylim((0,1))\n",
    "    plt.ylabel('Ratio')\n",
    "    plt.xlabel('Popularity')\n",
    "    plt.title('Sentiments over User Popularity')\n",
    "\n",
    "    plt.xticks(ind + width, ('Low', 'Medium', 'High', 'ExtremeHigh'))\n",
    "    plt.legend(loc='best')\n",
    "    plt.savefig(\"sentiment_over_popularity.png\")\n",
    "    plt.show()"
   ]
  },
  {
   "cell_type": "code",
   "execution_count": 13,
   "metadata": {},
   "outputs": [],
   "source": [
    "user_points = prepare_points(users) #user_points: {'UserID': ['followers_count', 'friends_count']}"
   ]
  },
  {
   "cell_type": "code",
   "execution_count": null,
   "metadata": {},
   "outputs": [],
   "source": []
  },
  {
   "cell_type": "code",
   "execution_count": 16,
   "metadata": {},
   "outputs": [
    {
     "data": {
      "image/png": "[encoded data removed]",
      "text/plain": [
       "<Figure size 432x288 with 1 Axes>"
      ]
     },
     "metadata": {
      "needs_background": "light"
     },
     "output_type": "display_data"
    }
   ],
   "source": [
    "elbow_k_selecting(user_points)\n",
    "# from this plot we select k=4"
   ]
  },
  {
   "cell_type": "code",
   "execution_count": 17,
   "metadata": {},
   "outputs": [],
   "source": [
    "centers, user_clusters = preform_Kmeans(user_points)"
   ]
  },
  {
   "cell_type": "code",
   "execution_count": 22,
   "metadata": {},
   "outputs": [
    {
     "name": "stdout",
     "output_type": "stream",
     "text": [
      "[[3.3805696  3.35221047]\n",
      " [1.78778208 2.22947507]\n",
      " [2.63955523 2.79421643]\n",
      " [4.59599319 3.35030803]]\n"
     ]
    }
   ],
   "source": [
    "# these are centers of each clusters\n",
    "# We name these clusters by:\n",
    "# 0 -- medium popularity group\n",
    "# 1 -- high popularity group\n",
    "# 2 -- low popularity group\n",
    "# 3 -- extremely high popularity group\n",
    "print(centers)"
   ]
  },
  {
   "cell_type": "code",
   "execution_count": null,
   "metadata": {},
   "outputs": [],
   "source": []
  },
  {
   "cell_type": "code",
   "execution_count": 222,
   "metadata": {},
   "outputs": [],
   "source": [
    "sentiments_over_group = sentiments_towards_popularity(tweets_sentiments, sentiments_distilBERT, user_clusters)"
   ]
  },
  {
   "cell_type": "code",
   "execution_count": 245,
   "metadata": {},
   "outputs": [
    {
     "data": {
      "image/png": "[encoded data removed]",
      "text/plain": [
       "<Figure size 432x288 with 1 Axes>"
      ]
     },
     "metadata": {},
     "output_type": "display_data"
    }
   ],
   "source": [
    "plot_sentiment_group(sentiments_over_group)"
   ]
  },
  {
   "cell_type": "code",
   "execution_count": null,
   "metadata": {},
   "outputs": [],
   "source": [
    "# Here we conclude accounts with higher popularity are slightly more positive\n",
    "# Maybe because all official accounts are in 'ExtremeHigh' group"
   ]
  }
 ],
 "metadata": {
  "kernelspec": {
   "display_name": "Python 3",
   "language": "python",
   "name": "python3"
  },
  "language_info": {
   "codemirror_mode": {
    "name": "ipython",
    "version": 3
   },
   "file_extension": ".py",
   "mimetype": "text/x-python",
   "name": "python",
   "nbconvert_exporter": "python",
   "pygments_lexer": "ipython3",
   "version": "3.8.5"
  }
 },
 "nbformat": 4,
 "nbformat_minor": 4
}
